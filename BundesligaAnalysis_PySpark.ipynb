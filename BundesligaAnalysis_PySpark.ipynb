{
  "nbformat": 4,
  "nbformat_minor": 0,
  "metadata": {
    "colab": {
      "provenance": [],
      "authorship_tag": "ABX9TyOFtNHsNv3I3mXuRRex5IS4",
      "include_colab_link": true
    },
    "kernelspec": {
      "name": "python3",
      "display_name": "Python 3"
    },
    "language_info": {
      "name": "python"
    }
  },
  "cells": [
    {
      "cell_type": "markdown",
      "metadata": {
        "id": "view-in-github",
        "colab_type": "text"
      },
      "source": [
        "<a href=\"https://colab.research.google.com/github/rupaidutta66/PySpark/blob/main/BundesligaAnalysis_PySpark.ipynb\" target=\"_parent\"><img src=\"https://colab.research.google.com/assets/colab-badge.svg\" alt=\"Open In Colab\"/></a>"
      ]
    },
    {
      "cell_type": "markdown",
      "source": [
        "# **Step 1: Import necessary libraries and set up Spark in Google Colab**"
      ],
      "metadata": {
        "id": "ALaTxZtT-U65"
      }
    },
    {
      "cell_type": "code",
      "execution_count": 29,
      "metadata": {
        "colab": {
          "base_uri": "https://localhost:8080/"
        },
        "id": "KtmkTjPPvbp5",
        "outputId": "abb92078-37ec-4580-8586-6921f3f34dd7"
      },
      "outputs": [
        {
          "output_type": "stream",
          "name": "stdout",
          "text": [
            "Requirement already satisfied: pyspark in /usr/local/lib/python3.10/dist-packages (3.4.1)\n",
            "Requirement already satisfied: py4j==0.10.9.7 in /usr/local/lib/python3.10/dist-packages (from pyspark) (0.10.9.7)\n"
          ]
        }
      ],
      "source": [
        "\n",
        "!pip install pyspark\n",
        "from pyspark.sql import SparkSession\n",
        "from pyspark.sql.functions import col, year, month, row_number\n",
        "from pyspark.sql.window import Window\n",
        "import pandas as pd\n",
        "\n",
        "\n"
      ]
    },
    {
      "cell_type": "markdown",
      "source": [
        "# Step 2: Load the provided datasets into Spark DataFrames"
      ],
      "metadata": {
        "id": "VgfBK0JZ-RL_"
      }
    },
    {
      "cell_type": "code",
      "source": [
        "# Create a Spark session\n",
        "spark = SparkSession.builder.appName(\"BundesligaAnalysis\").getOrCreate()\n",
        "\n",
        "\n",
        "# Load match.csv\n",
        "match_df = spark.read.csv(\"/content/Matches.csv\", header=True, inferSchema=True)\n",
        "\n",
        "# Load teams_in_matches.csv\n",
        "teams_in_matches_df = spark.read.csv(\"/content/Teams_in_Matches.csv\", header=True, inferSchema=True)\n",
        "\n",
        "# Load teams.csv\n",
        "teams_df = spark.read.csv(\"/content/Teams.csv\", header=True, inferSchema=True)\n",
        "\n",
        "# Load unique_teams.csv\n",
        "unique_teams_df = spark.read.csv(\"/content/Unique_Teams.csv\", header=True, inferSchema=True)\n",
        "\n"
      ],
      "metadata": {
        "id": "bJpLEfJm6dFY"
      },
      "execution_count": 30,
      "outputs": []
    },
    {
      "cell_type": "markdown",
      "source": [
        "# Step 3: Perform data transformations and calculations to answer the questions"
      ],
      "metadata": {
        "id": "cXNOqb3s-Z9N"
      }
    },
    {
      "cell_type": "markdown",
      "source": [
        "### 1. Who are the winners of the D1 division in the Germany Football Association (Bundesliga) in the last decade?"
      ],
      "metadata": {
        "id": "HdEpDiEJDOuE"
      }
    },
    {
      "cell_type": "code",
      "source": [
        "\n",
        "\n",
        "# Filter for D1 division and matches from the last decade (2007-2017)\n",
        "last_decade_winners = match_df.filter((match_df[\"Div\"] == \"D1\") & (year(match_df[\"Date\"]) >= 2007) & (year(match_df[\"Date\"]) <= 2017))\n",
        "\n",
        "# Find the teams that won each match\n",
        "last_decade_winners = last_decade_winners.withColumn(\"Winner\", (col(\"FTR\") == \"H\").cast(\"int\"))\n",
        "\n",
        "# Group by season and team to count the number of wins\n",
        "winners_by_season = last_decade_winners.groupBy(\"Season\", \"HomeTeam\").agg({\"Winner\": \"sum\"}).withColumnRenamed(\"sum(Winner)\", \"Wins\")\n",
        "\n",
        "# Find the team with the most wins in each season\n",
        "window_spec = Window.partitionBy(\"Season\").orderBy(col(\"Wins\").desc())\n",
        "season_winners = winners_by_season.withColumn(\"rank\", row_number().over(window_spec)).filter(col(\"rank\") == 1)\n",
        "\n",
        "# Join with unique_teams_df to get team names\n",
        "season_winners = season_winners.join(unique_teams_df, winners_by_season[\"HomeTeam\"] == unique_teams_df[\"TeamName\"]).select(\"Season\", \"TeamName\")\n",
        "\n",
        "# Show the winners of the D1 division in the last decade\n",
        "print(\"Winners of the D1 division in the last decade:\")\n",
        "season_winners.show()\n"
      ],
      "metadata": {
        "id": "5X2578rq6ipn"
      },
      "execution_count": null,
      "outputs": []
    },
    {
      "cell_type": "markdown",
      "source": [
        "### 2. Which teams have been relegated in the past 10 years?"
      ],
      "metadata": {
        "id": "8DutMQX9DqDx"
      }
    },
    {
      "cell_type": "code",
      "source": [
        "\n",
        "\n",
        "# Filter for D1 division and matches from the last decade (2007-2017)\n",
        "last_10_years_matches = match_df.filter((year(match_df[\"Date\"]) >= 2007) & (year(match_df[\"Date\"]) <= 2017))\n",
        "\n",
        "# Group by season and team, and calculate their final position in the division\n",
        "relegation_table = last_10_years_matches.filter(last_10_years_matches[\"Div\"] == \"D1\").groupBy(\"Season\", \"HomeTeam\").agg({\"FTHG\": \"sum\", \"FTAG\": \"sum\"})\n",
        "\n",
        "# Assuming that the bottom 3 teams in the division get relegated, you can calculate their positions\n",
        "relegation_table = relegation_table.withColumn(\"FinalPosition\", relegation_table[\"sum(FTHG)\"] - relegation_table[\"sum(FTAG)\"])\n",
        "\n",
        "# Filter for teams that finished in the relegation zone (bottom 3)\n",
        "relegated_teams = relegation_table.filter(relegation_table[\"FinalPosition\"] > 0).orderBy(\"Season\", \"FinalPosition\")\n",
        "\n",
        "# Join with unique_teams_df to get team names\n",
        "relegated_teams = relegated_teams.join(unique_teams_df, relegation_table[\"HomeTeam\"] == unique_teams_df[\"TeamName\"]).select(\"Season\", \"TeamName\")\n",
        "\n",
        "# Show the teams that were relegated in the past 10 years\n",
        "print(\"Teams relegated in the past 10 years:\")\n",
        "relegated_teams.show()\n",
        "\n"
      ],
      "metadata": {
        "id": "8HwgwAR66sqY"
      },
      "execution_count": null,
      "outputs": []
    },
    {
      "cell_type": "markdown",
      "source": [
        "###  3. Does Octoberfest affect the performance of Bundesliga?"
      ],
      "metadata": {
        "id": "7NjHOCXWDmfn"
      }
    },
    {
      "cell_type": "code",
      "source": [
        "\n",
        "# Calculate the average goals scored in October vs. other months\n",
        "october_goals = match_df.filter(month(match_df[\"Date\"]) == 10)\n",
        "other_months_goals = match_df.filter(month(match_df[\"Date\"]) != 10)\n",
        "\n",
        "# Calculate the average goals scored in each group\n",
        "october_avg_goals = october_goals.selectExpr(\"avg(FTHG) as OctoberAvgHomeGoals\", \"avg(FTAG) as OctoberAvgAwayGoals\")\n",
        "other_months_avg_goals = other_months_goals.selectExpr(\"avg(FTHG) as OtherMonthsAvgHomeGoals\", \"avg(FTAG) as OtherMonthsAvgAwayGoals\")\n",
        "\n",
        "# Show the average goals scored in October vs. other months\n",
        "print(\"Average goals scored in October vs. other months:\")\n",
        "october_avg_goals.crossJoin(other_months_avg_goals).show()"
      ],
      "metadata": {
        "colab": {
          "base_uri": "https://localhost:8080/"
        },
        "id": "21Dc7S4z6rZP",
        "outputId": "b5eba8e3-bc2a-4483-be32-09449443e81f"
      },
      "execution_count": 33,
      "outputs": [
        {
          "output_type": "stream",
          "name": "stdout",
          "text": [
            "Average goals scored in October vs. other months:\n",
            "+-------------------+-------------------+-----------------------+-----------------------+\n",
            "|OctoberAvgHomeGoals|OctoberAvgAwayGoals|OtherMonthsAvgHomeGoals|OtherMonthsAvgAwayGoals|\n",
            "+-------------------+-------------------+-----------------------+-----------------------+\n",
            "| 1.5704169944925255| 1.1066089693154997|     1.5108907304261197|     1.0964542861024318|\n",
            "+-------------------+-------------------+-----------------------+-----------------------+\n",
            "\n"
          ]
        }
      ]
    },
    {
      "cell_type": "markdown",
      "source": [
        "### 4. Which season of Bundesliga was the most competitive in the last decade?"
      ],
      "metadata": {
        "id": "zE9kwrwjDiVl"
      }
    },
    {
      "cell_type": "code",
      "source": [
        "\n",
        "# Calculate the standard deviation of goal differences for each season in the last decade\n",
        "goal_difference = match_df.filter(year(match_df[\"Date\"]) >= 2006).withColumn(\"GoalDifference\", col(\"FTHG\") - col(\"FTAG\"))\n",
        "std_dev_by_season = goal_difference.groupBy(\"Season\").agg({\"GoalDifference\": \"stddev_pop\"}).withColumnRenamed(\"stddev_pop(GoalDifference)\", \"StdDevGoalDifference\")\n",
        "\n",
        "# Find the season with the highest standard deviation\n",
        "most_competitive_season = std_dev_by_season.orderBy(col(\"StdDevGoalDifference\").desc()).first()\n",
        "\n",
        "# Show the most competitive season\n",
        "print(\"The most competitive season in the last decade was:\", most_competitive_season[\"Season\"])"
      ],
      "metadata": {
        "id": "82bbvutm6nEl"
      },
      "execution_count": null,
      "outputs": []
    },
    {
      "cell_type": "markdown",
      "source": [
        "### 5. What's the best month to watch Bundesliga?"
      ],
      "metadata": {
        "id": "01YTpLdcDwpP"
      }
    },
    {
      "cell_type": "code",
      "source": [
        "\n",
        "# Calculate the average goals scored in each month\n",
        "monthly_avg_goals = match_df.groupBy(month(match_df[\"Date\"]).alias(\"Month\")).agg({\"FTHG\": \"avg\", \"FTAG\": \"avg\"}).orderBy(\"Month\")\n",
        "\n",
        "# Show the average goals scored in each month\n",
        "print(\"Average goals scored in each month:\")\n",
        "monthly_avg_goals.show()"
      ],
      "metadata": {
        "colab": {
          "base_uri": "https://localhost:8080/"
        },
        "id": "rN3EI7Oz6lS5",
        "outputId": "de02daf5-692c-41e7-fc6b-d5e4c04df25c"
      },
      "execution_count": 35,
      "outputs": [
        {
          "output_type": "stream",
          "name": "stdout",
          "text": [
            "Average goals scored in each month:\n",
            "+-----+------------------+------------------+\n",
            "|Month|         avg(FTAG)|         avg(FTHG)|\n",
            "+-----+------------------+------------------+\n",
            "|    1|1.0217881292261457|1.4282494365138994|\n",
            "|    2| 1.068510111432109|1.4424267437061493|\n",
            "|    3|1.0603953147877012|1.5183016105417277|\n",
            "|    4|  1.06371790906279|1.4825239715434582|\n",
            "|    5|1.2057831325301205| 1.687710843373494|\n",
            "|    6|          1.453125|         1.9765625|\n",
            "|    7|0.7570093457943925|1.1308411214953271|\n",
            "|    8|1.1429832303618712|1.4717563989408649|\n",
            "|    9|1.1246044303797469|1.5395569620253164|\n",
            "|   10|1.1066089693154997|1.5704169944925255|\n",
            "|   11|  1.08994708994709|1.5366591080876795|\n",
            "|   12|1.0872226472838562|1.4762815608263198|\n",
            "+-----+------------------+------------------+\n",
            "\n"
          ]
        }
      ]
    },
    {
      "cell_type": "markdown",
      "source": [
        "# THANK YOU FOR WATCHING"
      ],
      "metadata": {
        "id": "rxQxEzaEGDPw"
      }
    },
    {
      "cell_type": "code",
      "source": [],
      "metadata": {
        "id": "myfVgGbNGGcO"
      },
      "execution_count": null,
      "outputs": []
    }
  ]
}